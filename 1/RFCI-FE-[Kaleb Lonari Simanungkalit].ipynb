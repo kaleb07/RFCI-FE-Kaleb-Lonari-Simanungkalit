{
 "cells": [
  {
   "cell_type": "code",
   "execution_count": 1,
   "metadata": {},
   "outputs": [],
   "source": [
    "def sorting(arr):\n",
    "    swap = 0\n",
    "    for i in range(1, len(arr)):\n",
    "        j = i-1\n",
    "        while arr[j] > arr[j+1] and j>= 0:\n",
    "            print(\"[{}, {}] -> \".format(arr[j+1], arr[j]), end = \"\")\n",
    "            arr[j], arr[j+1] = arr[j+1], arr[j]\n",
    "            j -= 1\n",
    "            swap +=1\n",
    "            print(arr)\n",
    "    print(\"jumlah swap {}\".format(swap))\n",
    "    #return swap"
   ]
  },
  {
   "cell_type": "code",
   "execution_count": 2,
   "metadata": {},
   "outputs": [
    {
     "name": "stdout",
     "output_type": "stream",
     "text": [
      "[7, 9] -> [4, 7, 9, 5, 8, 9, 3]\n",
      "[5, 9] -> [4, 7, 5, 9, 8, 9, 3]\n",
      "[5, 7] -> [4, 5, 7, 9, 8, 9, 3]\n",
      "[8, 9] -> [4, 5, 7, 8, 9, 9, 3]\n",
      "[3, 9] -> [4, 5, 7, 8, 9, 3, 9]\n",
      "[3, 9] -> [4, 5, 7, 8, 3, 9, 9]\n",
      "[3, 8] -> [4, 5, 7, 3, 8, 9, 9]\n",
      "[3, 7] -> [4, 5, 3, 7, 8, 9, 9]\n",
      "[3, 5] -> [4, 3, 5, 7, 8, 9, 9]\n",
      "[3, 4] -> [3, 4, 5, 7, 8, 9, 9]\n",
      "jumlah swap 10\n",
      "None\n"
     ]
    }
   ],
   "source": [
    "array = [4, 9, 7, 5, 8, 9, 3] \n",
    "c = sorting(array)\n",
    "print(c)"
   ]
  },
  {
   "cell_type": "code",
   "execution_count": null,
   "metadata": {},
   "outputs": [],
   "source": []
  }
 ],
 "metadata": {
  "kernelspec": {
   "display_name": "Python 3",
   "language": "python",
   "name": "python3"
  },
  "language_info": {
   "codemirror_mode": {
    "name": "ipython",
    "version": 3
   },
   "file_extension": ".py",
   "mimetype": "text/x-python",
   "name": "python",
   "nbconvert_exporter": "python",
   "pygments_lexer": "ipython3",
   "version": "3.7.3"
  }
 },
 "nbformat": 4,
 "nbformat_minor": 2
}
